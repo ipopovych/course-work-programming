{
 "cells": [
  {
   "cell_type": "code",
   "execution_count": 5,
   "metadata": {
    "scrolled": true
   },
   "outputs": [
    {
     "name": "stdout",
     "output_type": "stream",
     "text": [
      "Collecting pandas\n",
      "  Downloading https://files.pythonhosted.org/packages/da/c6/0936bc5814b429fddb5d6252566fe73a3e40372e6ceaf87de3dec1326f28/pandas-0.22.0-cp36-cp36m-manylinux1_x86_64.whl (26.2MB)\n",
      "\u001b[K    100% |████████████████████████████████| 26.3MB 64kB/s eta 0:00:01\n",
      "\u001b[?25hCollecting python-dateutil>=2 (from pandas)\n",
      "  Using cached https://files.pythonhosted.org/packages/cf/f5/af2b09c957ace60dcfac112b669c45c8c97e32f94aa8b56da4c6d1682825/python_dateutil-2.7.3-py2.py3-none-any.whl\n",
      "Collecting pytz>=2011k (from pandas)\n",
      "  Downloading https://files.pythonhosted.org/packages/dc/83/15f7833b70d3e067ca91467ca245bae0f6fe56ddc7451aa0dc5606b120f2/pytz-2018.4-py2.py3-none-any.whl (510kB)\n",
      "\u001b[K    100% |████████████████████████████████| 512kB 1.1MB/s ta 0:00:01\n",
      "\u001b[?25hCollecting numpy>=1.9.0 (from pandas)\n",
      "  Using cached https://files.pythonhosted.org/packages/71/90/ca61e203e0080a8cef7ac21eca199829fa8d997f7c4da3e985b49d0a107d/numpy-1.14.3-cp36-cp36m-manylinux1_x86_64.whl\n",
      "Collecting six>=1.5 (from python-dateutil>=2->pandas)\n",
      "  Using cached https://files.pythonhosted.org/packages/67/4b/141a581104b1f6397bfa78ac9d43d8ad29a7ca43ea90a2d863fe3056e86a/six-1.11.0-py2.py3-none-any.whl\n",
      "Installing collected packages: six, python-dateutil, pytz, numpy, pandas\n",
      "Successfully installed numpy-1.14.3 pandas-0.22.0 python-dateutil-2.7.3 pytz-2018.4 six-1.11.0\n"
     ]
    }
   ],
   "source": [
    "!pip3 install pandas"
   ]
  },
  {
   "cell_type": "code",
   "execution_count": 1,
   "metadata": {},
   "outputs": [],
   "source": [
    "import pandas as pd"
   ]
  },
  {
   "cell_type": "code",
   "execution_count": 2,
   "metadata": {},
   "outputs": [],
   "source": [
    "df = pd.read_csv(\"documents.csv\", delimiter=\"\\t\")"
   ]
  },
  {
   "cell_type": "code",
   "execution_count": 3,
   "metadata": {
    "scrolled": true
   },
   "outputs": [
    {
     "data": {
      "text/html": [
       "<div>\n",
       "<style scoped>\n",
       "    .dataframe tbody tr th:only-of-type {\n",
       "        vertical-align: middle;\n",
       "    }\n",
       "\n",
       "    .dataframe tbody tr th {\n",
       "        vertical-align: top;\n",
       "    }\n",
       "\n",
       "    .dataframe thead th {\n",
       "        text-align: right;\n",
       "    }\n",
       "</style>\n",
       "<table border=\"1\" class=\"dataframe\">\n",
       "  <thead>\n",
       "    <tr style=\"text-align: right;\">\n",
       "      <th></th>\n",
       "      <th>doc_id</th>\n",
       "      <th>court_code</th>\n",
       "      <th>judgment_code</th>\n",
       "      <th>justice_kind</th>\n",
       "      <th>category_code</th>\n",
       "      <th>cause_num</th>\n",
       "      <th>adjudication_date</th>\n",
       "      <th>receipt_date</th>\n",
       "      <th>judge</th>\n",
       "      <th>doc_url</th>\n",
       "      <th>status</th>\n",
       "      <th>date_publ</th>\n",
       "    </tr>\n",
       "  </thead>\n",
       "  <tbody>\n",
       "    <tr>\n",
       "      <th>0</th>\n",
       "      <td>63872585</td>\n",
       "      <td>503</td>\n",
       "      <td>5.0</td>\n",
       "      <td>2.0</td>\n",
       "      <td>6260.0</td>\n",
       "      <td>219/12866/16-к</td>\n",
       "      <td>2016-12-31 00:00:00+02</td>\n",
       "      <td>2017-01-01 00:00:00+02</td>\n",
       "      <td>Медінцева Н. М.</td>\n",
       "      <td>http://od.reyestr.court.gov.ua/files/31/d76621...</td>\n",
       "      <td>1</td>\n",
       "      <td>2017-01-01 00:00:00+02</td>\n",
       "    </tr>\n",
       "    <tr>\n",
       "      <th>1</th>\n",
       "      <td>63876106</td>\n",
       "      <td>9991</td>\n",
       "      <td>5.0</td>\n",
       "      <td>4.0</td>\n",
       "      <td>11680.0</td>\n",
       "      <td>824/90/16-а</td>\n",
       "      <td>2016-12-27 00:00:00+02</td>\n",
       "      <td>2017-01-01 00:00:00+02</td>\n",
       "      <td>Цвіркун Ю.І.</td>\n",
       "      <td>http://od.reyestr.court.gov.ua/files/31/41b026...</td>\n",
       "      <td>1</td>\n",
       "      <td>2017-01-03 00:00:00+02</td>\n",
       "    </tr>\n",
       "    <tr>\n",
       "      <th>2</th>\n",
       "      <td>63876307</td>\n",
       "      <td>9991</td>\n",
       "      <td>5.0</td>\n",
       "      <td>4.0</td>\n",
       "      <td>11680.0</td>\n",
       "      <td>820/8918/15</td>\n",
       "      <td>2016-12-28 00:00:00+02</td>\n",
       "      <td>2017-01-01 00:00:00+02</td>\n",
       "      <td>Цвіркун Ю.І.</td>\n",
       "      <td>http://od.reyestr.court.gov.ua/files/31/b820b6...</td>\n",
       "      <td>1</td>\n",
       "      <td>2017-01-03 00:00:00+02</td>\n",
       "    </tr>\n",
       "    <tr>\n",
       "      <th>3</th>\n",
       "      <td>63876283</td>\n",
       "      <td>9991</td>\n",
       "      <td>5.0</td>\n",
       "      <td>4.0</td>\n",
       "      <td>11682.0</td>\n",
       "      <td>805/1590/16-а</td>\n",
       "      <td>2016-12-27 00:00:00+02</td>\n",
       "      <td>2017-01-01 00:00:00+02</td>\n",
       "      <td>Цвіркун Ю.І.</td>\n",
       "      <td>http://od.reyestr.court.gov.ua/files/31/7b7b15...</td>\n",
       "      <td>1</td>\n",
       "      <td>2017-01-03 00:00:00+02</td>\n",
       "    </tr>\n",
       "    <tr>\n",
       "      <th>4</th>\n",
       "      <td>63876280</td>\n",
       "      <td>9991</td>\n",
       "      <td>5.0</td>\n",
       "      <td>4.0</td>\n",
       "      <td>11694.0</td>\n",
       "      <td>808/1021/16</td>\n",
       "      <td>2016-12-27 00:00:00+02</td>\n",
       "      <td>2017-01-01 00:00:00+02</td>\n",
       "      <td>Цвіркун Ю.І.</td>\n",
       "      <td>http://od.reyestr.court.gov.ua/files/31/cb73bd...</td>\n",
       "      <td>1</td>\n",
       "      <td>2017-01-03 00:00:00+02</td>\n",
       "    </tr>\n",
       "  </tbody>\n",
       "</table>\n",
       "</div>"
      ],
      "text/plain": [
       "     doc_id  court_code  judgment_code  justice_kind  category_code  \\\n",
       "0  63872585         503            5.0           2.0         6260.0   \n",
       "1  63876106        9991            5.0           4.0        11680.0   \n",
       "2  63876307        9991            5.0           4.0        11680.0   \n",
       "3  63876283        9991            5.0           4.0        11682.0   \n",
       "4  63876280        9991            5.0           4.0        11694.0   \n",
       "\n",
       "        cause_num       adjudication_date            receipt_date  \\\n",
       "0  219/12866/16-к  2016-12-31 00:00:00+02  2017-01-01 00:00:00+02   \n",
       "1     824/90/16-а  2016-12-27 00:00:00+02  2017-01-01 00:00:00+02   \n",
       "2     820/8918/15  2016-12-28 00:00:00+02  2017-01-01 00:00:00+02   \n",
       "3   805/1590/16-а  2016-12-27 00:00:00+02  2017-01-01 00:00:00+02   \n",
       "4     808/1021/16  2016-12-27 00:00:00+02  2017-01-01 00:00:00+02   \n",
       "\n",
       "             judge                                            doc_url  status  \\\n",
       "0  Медінцева Н. М.  http://od.reyestr.court.gov.ua/files/31/d76621...       1   \n",
       "1     Цвіркун Ю.І.  http://od.reyestr.court.gov.ua/files/31/41b026...       1   \n",
       "2     Цвіркун Ю.І.  http://od.reyestr.court.gov.ua/files/31/b820b6...       1   \n",
       "3     Цвіркун Ю.І.  http://od.reyestr.court.gov.ua/files/31/7b7b15...       1   \n",
       "4     Цвіркун Ю.І.  http://od.reyestr.court.gov.ua/files/31/cb73bd...       1   \n",
       "\n",
       "                date_publ  \n",
       "0  2017-01-01 00:00:00+02  \n",
       "1  2017-01-03 00:00:00+02  \n",
       "2  2017-01-03 00:00:00+02  \n",
       "3  2017-01-03 00:00:00+02  \n",
       "4  2017-01-03 00:00:00+02  "
      ]
     },
     "execution_count": 3,
     "metadata": {},
     "output_type": "execute_result"
    }
   ],
   "source": [
    "df.head()"
   ]
  },
  {
   "cell_type": "code",
   "execution_count": 29,
   "metadata": {},
   "outputs": [
    {
     "data": {
      "text/plain": [
       "5553       http://od.reyestr.court.gov.ua/files/31/3c13ef...\n",
       "5723       http://od.reyestr.court.gov.ua/files/31/5e51a6...\n",
       "5828       http://od.reyestr.court.gov.ua/files/31/661185...\n",
       "6413       http://od.reyestr.court.gov.ua/files/31/f19af2...\n",
       "6878       http://od.reyestr.court.gov.ua/files/31/04e85c...\n",
       "6981       http://od.reyestr.court.gov.ua/files/31/a0e61d...\n",
       "8172       http://od.reyestr.court.gov.ua/files/31/4dfad5...\n",
       "8237       http://od.reyestr.court.gov.ua/files/31/d18f64...\n",
       "8482       http://od.reyestr.court.gov.ua/files/31/89b1e8...\n",
       "79972      http://od.reyestr.court.gov.ua/files/31/f6280b...\n",
       "132968     http://od.reyestr.court.gov.ua/files/31/b1c4bb...\n",
       "150914     http://od.reyestr.court.gov.ua/files/32/156fca...\n",
       "173441     http://od.reyestr.court.gov.ua/files/32/9b0e3c...\n",
       "186603     http://od.reyestr.court.gov.ua/files/32/b78d24...\n",
       "204609     http://od.reyestr.court.gov.ua/files/32/ac388f...\n",
       "210993     http://od.reyestr.court.gov.ua/files/32/c7f660...\n",
       "211284     http://od.reyestr.court.gov.ua/files/32/57d28f...\n",
       "211852     http://od.reyestr.court.gov.ua/files/32/1634de...\n",
       "212290     http://od.reyestr.court.gov.ua/files/32/3134e4...\n",
       "212413     http://od.reyestr.court.gov.ua/files/32/5cc4b2...\n",
       "212422     http://od.reyestr.court.gov.ua/files/32/52578b...\n",
       "212450     http://od.reyestr.court.gov.ua/files/32/8b385c...\n",
       "227435     http://od.reyestr.court.gov.ua/files/32/8d2c79...\n",
       "230604     http://od.reyestr.court.gov.ua/files/32/b16239...\n",
       "245836     http://od.reyestr.court.gov.ua/files/32/d7b122...\n",
       "245837     http://od.reyestr.court.gov.ua/files/32/8e5eef...\n",
       "252897     http://od.reyestr.court.gov.ua/files/32/a803be...\n",
       "272385     http://od.reyestr.court.gov.ua/files/32/fe345c...\n",
       "405045     http://od.reyestr.court.gov.ua/files/32/593f76...\n",
       "408325     http://od.reyestr.court.gov.ua/files/32/886056...\n",
       "                                 ...                        \n",
       "7152841    http://od.reyestr.court.gov.ua/files/35/1f4b37...\n",
       "7165810    http://od.reyestr.court.gov.ua/files/35/5318bd...\n",
       "7167781    http://od.reyestr.court.gov.ua/files/35/934634...\n",
       "7173062                                                  NaN\n",
       "7173129                                                  NaN\n",
       "7174496    http://od.reyestr.court.gov.ua/files/35/624d6c...\n",
       "7179670    http://od.reyestr.court.gov.ua/files/35/d8fa8b...\n",
       "7179695    http://od.reyestr.court.gov.ua/files/35/10b289...\n",
       "7181655    http://od.reyestr.court.gov.ua/files/35/10a860...\n",
       "7186192    http://od.reyestr.court.gov.ua/files/35/e7c711...\n",
       "7186237    http://od.reyestr.court.gov.ua/files/35/4ef446...\n",
       "7189715    http://od.reyestr.court.gov.ua/files/35/1b0981...\n",
       "7209581    http://od.reyestr.court.gov.ua/files/35/f5d7ce...\n",
       "7210383    http://od.reyestr.court.gov.ua/files/35/9c2ef5...\n",
       "7211008    http://od.reyestr.court.gov.ua/files/35/5c8c05...\n",
       "7211365    http://od.reyestr.court.gov.ua/files/35/353217...\n",
       "7216977    http://od.reyestr.court.gov.ua/files/35/53e47e...\n",
       "7222799    http://od.reyestr.court.gov.ua/files/35/09f4fc...\n",
       "7225066    http://od.reyestr.court.gov.ua/files/35/908c02...\n",
       "7230154    http://od.reyestr.court.gov.ua/files/35/3ab0e9...\n",
       "7251548    http://od.reyestr.court.gov.ua/files/35/aa5fd6...\n",
       "7251659    http://od.reyestr.court.gov.ua/files/35/b2e420...\n",
       "7283784    http://od.reyestr.court.gov.ua/files/35/c4023c...\n",
       "7291717    http://od.reyestr.court.gov.ua/files/35/b88f0d...\n",
       "7307035    http://od.reyestr.court.gov.ua/files/35/1f4acd...\n",
       "7310059    http://od.reyestr.court.gov.ua/files/35/4e7799...\n",
       "7319074    http://od.reyestr.court.gov.ua/files/35/6b6ace...\n",
       "7319871    http://od.reyestr.court.gov.ua/files/35/7fe1c8...\n",
       "7319919    http://od.reyestr.court.gov.ua/files/35/4d0206...\n",
       "7327536    http://od.reyestr.court.gov.ua/files/35/47298d...\n",
       "Name: doc_url, Length: 611, dtype: object"
      ]
     },
     "execution_count": 29,
     "metadata": {},
     "output_type": "execute_result"
    }
   ],
   "source": [
    "clear_df = df[~df[\"category_code\"].isnull()]\n",
    "clear_df[\"category_code\"].astype(int, inplace=True)\n",
    "zrada_df = clear_df[clear_df[\"category_code\"] == 5173]\n",
    "zrada_df[\"doc_url\"][5523]"
   ]
  },
  {
   "cell_type": "code",
   "execution_count": 32,
   "metadata": {},
   "outputs": [
    {
     "name": "stdout",
     "output_type": "stream",
     "text": [
      "http://od.reyestr.court.gov.ua/files/31/b820b6842de33b354a0c9eaea7c219ae.rtf\n"
     ]
    }
   ],
   "source": [
    "print(df[\"doc_url\"][2])"
   ]
  },
  {
   "cell_type": "code",
   "execution_count": null,
   "metadata": {},
   "outputs": [],
   "source": []
  }
 ],
 "metadata": {
  "kernelspec": {
   "display_name": "Python 3",
   "language": "python",
   "name": "python3"
  },
  "language_info": {
   "codemirror_mode": {
    "name": "ipython",
    "version": 3
   },
   "file_extension": ".py",
   "mimetype": "text/x-python",
   "name": "python",
   "nbconvert_exporter": "python",
   "pygments_lexer": "ipython3",
   "version": "3.6.2"
  }
 },
 "nbformat": 4,
 "nbformat_minor": 2
}
